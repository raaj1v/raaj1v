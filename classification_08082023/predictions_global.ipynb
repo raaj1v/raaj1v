{
 "cells": [
  {
   "cell_type": "code",
   "execution_count": 1,
   "metadata": {},
   "outputs": [
    {
     "name": "stdout",
     "output_type": "stream",
     "text": [
      "          srno      tcno                                       tendersBrief  \\\n",
      "0     70164532  59513614  Digitization Of The \"wille\" Memorial, Lot 1: P...   \n",
      "1     70164533  59513615  Procurement Of Office Supplies For Periodical ...   \n",
      "2     70164534  59513616  Awarding Of Scholarships For Professionally Qu...   \n",
      "3     70164535  59513617  Supply And Delivery Of Materials For Construct...   \n",
      "4     70164536  59513618  Demolition Work - Partial Demolition Of Gollno...   \n",
      "...        ...       ...                                                ...   \n",
      "9853  53344712  51097972      Provision For Procurement Of Air Conditioning   \n",
      "9854  53344401  51097661  Delivery Of Servers And Provision Of Cable Con...   \n",
      "9855  53344408  51097668  Services Of Plugging, Drilling, Re-drilling An...   \n",
      "9856  53344410  51097670  Delivery And Maintenance Of Network Equipment ...   \n",
      "9857  53344411  51097671  Consulting Services For The Assessment Of The ...   \n",
      "\n",
      "                                            productname  \n",
      "0     Computerization,Data Digitization,Digital Scan...  \n",
      "1     Fire Alarm Panel,Fire Alarm System,Fire Brigad...  \n",
      "2     Billeting Service,Concierge Service,Hospitalit...  \n",
      "3     Expressway,RCC road,Road Concreting,Road devel...  \n",
      "4                                            Demolition  \n",
      "...                                                 ...  \n",
      "9853  AC Unit Hiring,Air Condition Plant,Air conditi...  \n",
      "9854  Computer Server,Exchange Server,High End Serve...  \n",
      "9855                     Bore Well,Deep well,Water Well  \n",
      "9856  Adapalene Gel,Adrenaline,Antihypertensive,Anti...  \n",
      "9857                              Customer Satisfaction  \n",
      "\n",
      "[9858 rows x 4 columns]\n"
     ]
    }
   ],
   "source": [
    "import pandas as pd\n",
    "df = pd.read_excel('GloalTendersPrediction.xlsx')\n",
    "print(df)"
   ]
  },
  {
   "cell_type": "code",
   "execution_count": 2,
   "metadata": {},
   "outputs": [],
   "source": [
    "import requests\n",
    "\n",
    "url  = \"http://127.0.0.1:8000/prediction3\"\n",
    "\n",
    "predictions = []\n",
    "\n",
    "# Iterate through DataFrame rows and send tenderbrief values to the API\n",
    "for index, row in df.iterrows():\n",
    "    tenderbrief = row[\"tendersBrief\"]\n",
    "    data = {\n",
    "        \"tenderbrief\": tenderbrief\n",
    "    }\n",
    "    \n",
    "    # Make an HTTP POST request to the API\n",
    "    response = requests.post(url, json=data)\n",
    "    \n",
    "    # Check if the request was successful\n",
    "    if response.status_code == 200:\n",
    "        result = response.json()\n",
    "        predictions.append(result)\n",
    "    else:\n",
    "        predictions.append(None)\n",
    "\n",
    "# Add the predictions to a new column in the DataFrame\n",
    "df[\"predictions\"] = predictions"
   ]
  },
  {
   "cell_type": "code",
   "execution_count": null,
   "metadata": {},
   "outputs": [],
   "source": []
  },
  {
   "cell_type": "code",
   "execution_count": null,
   "metadata": {},
   "outputs": [],
   "source": [
    "import requests\n",
    "import pandas as pd\n",
    "\n",
    "# # Load your data into a DataFrame (replace this with your actual data loading code)\n",
    "# data = {\n",
    "#     \"srno\": [70164532, 70164533, 70164534, 70164535, 70164536],\n",
    "#     \"tcno\": [59513614, 59513615, 59513616, 59513617, 59513618],\n",
    "#     \"tendersBrief\": [\n",
    "#         \"Digitization Of The \\\"wille\\\" Memorial, Lot 1: Procurement Of 3 Desk Monitors, Lot 2: 55\\\" Monitors With Holder (2 Pieces)\",\n",
    "#         \"Procurement Of Office Supplies For Periodical Test And Refilling Of Fire Extinguishers - Sto. Domingo Is-jhs\",\n",
    "#         \"Awarding Of Scholarships For Professionally Qualified People, Venue Of The Awarding Of Scholarships\",\n",
    "#         \"Supply And Delivery Of Materials For Construction Of Hand Washing Facility (phase Ii) Barangay Macaalan\",\n",
    "#         \"Demolition Work - Partial Demolition Of Gollnowstraße 2 In Stassfurt\"\n",
    "#     ],\n",
    "#     \"productname\": [\n",
    "#         \"Computerization,Data Digitization,Digital Scanning,Digitizing System\",\n",
    "#         \"Fire Alarm Panel,Fire Alarm System,Fire Brigade,Fire Detection System,Fire Engine\",\n",
    "#         \"Billeting Service,Concierge Service,Hospitality management,Hotel Lease,Hotel Reservation counter,Venue\",\n",
    "#         \"Expressway,RCC road,Road Concreting,Road development,Road Improvement,Road Rehabilitation,Road Strengthening,road surface,Street Construction\",\n",
    "#         \"Demolition\"\n",
    "#     ]\n",
    "# }\n",
    "\n",
    "# df = pd.DataFrame(data)\n",
    "\n",
    "# API endpoint URL\n",
    "url = \"http://your-api-endpoint-url\"\n",
    "\n",
    "# Iterate through DataFrame rows and send tenderbrief values to the API\n",
    "for index, row in df.iterrows():\n",
    "    tenderbrief = row[\"tendersBrief\"]\n",
    "    data = {\n",
    "        \"tenderbrief\": tenderbrief\n",
    "    }\n",
    "    \n",
    "    # Make an HTTP POST request to the API\n",
    "    response = requests.post(url, json=data)\n",
    "    \n",
    "    # Check if the request was successful\n",
    "    if response.status_code == 200:\n",
    "        result = response.json()\n",
    "        print(\"Prediction Result for\", tenderbrief, \":\", result)\n",
    "    else:\n",
    "        print(\"Error for\", tenderbrief, \":\", response.status_code)\n"
   ]
  }
 ],
 "metadata": {
  "kernelspec": {
   "display_name": "Python 3",
   "language": "python",
   "name": "python3"
  },
  "language_info": {
   "codemirror_mode": {
    "name": "ipython",
    "version": 3
   },
   "file_extension": ".py",
   "mimetype": "text/x-python",
   "name": "python",
   "nbconvert_exporter": "python",
   "pygments_lexer": "ipython3",
   "version": "3.11.4"
  },
  "orig_nbformat": 4
 },
 "nbformat": 4,
 "nbformat_minor": 2
}
